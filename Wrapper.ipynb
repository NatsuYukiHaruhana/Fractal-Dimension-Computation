{
 "cells": [
  {
   "cell_type": "markdown",
   "metadata": {},
   "source": [
    "# Imports"
   ]
  },
  {
   "cell_type": "code",
   "execution_count": null,
   "metadata": {},
   "outputs": [],
   "source": [
    "import sys\n",
    "!{sys.executable} -m pip install numpy\n",
    "!{sys.executable} -m pip install scikit-learn\n",
    "!{sys.executable} -m pip install pillow"
   ]
  },
  {
   "cell_type": "code",
   "execution_count": null,
   "metadata": {},
   "outputs": [],
   "source": [
    "import math\n",
    "import subprocess\n",
    "import tkinter as tk\n",
    "import turtle\n",
    "\n",
    "import numpy as np\n",
    "from scipy.stats import linregress\n",
    "from PIL import Image"
   ]
  },
  {
   "cell_type": "markdown",
   "metadata": {},
   "source": [
    "# Draw image"
   ]
  },
  {
   "cell_type": "code",
   "execution_count": null,
   "metadata": {},
   "outputs": [],
   "source": [
    "def dump_gui(canvas, filename = \"gui_image_grabbed.png\"):\n",
    "    \"\"\"\n",
    "    takes a png screenshot of a tkinter window, and saves it on in cwd\n",
    "    \"\"\"\n",
    "    print(f'...dumping gui window to png: {filename}')\n",
    "    import io\n",
    "    \n",
    "    ps = canvas.postscript(colormode=\"mono\")\n",
    "    im = Image.open(io.BytesIO(ps.encode('utf-8')))\n",
    "    im.save(filename)"
   ]
  },
  {
   "cell_type": "markdown",
   "metadata": {},
   "source": [
    "## Sierpinski Triangle"
   ]
  },
  {
   "cell_type": "code",
   "execution_count": null,
   "metadata": {},
   "outputs": [],
   "source": [
    "def draw_sierpinski(turtle, length, depth):\n",
    "    if depth == 0:\n",
    "        for i in range(0, 3):\n",
    "            turtle.fd(length)\n",
    "            turtle.left(120)\n",
    "    else:\n",
    "        draw_sierpinski(turtle, length / 2, depth - 1)\n",
    "        turtle.fd(length / 2)\n",
    "        draw_sierpinski(turtle, length / 2, depth - 1)\n",
    "        turtle.bk(length / 2)\n",
    "        turtle.left(60)\n",
    "        turtle.fd(length / 2)\n",
    "        turtle.right(60)\n",
    "        draw_sierpinski(turtle, length / 2, depth - 1)\n",
    "        turtle.left(60)\n",
    "        turtle.bk(length / 2)\n",
    "        turtle.right(60)"
   ]
  },
  {
   "cell_type": "markdown",
   "metadata": {},
   "source": [
    "### Run"
   ]
  },
  {
   "cell_type": "code",
   "execution_count": null,
   "metadata": {},
   "outputs": [],
   "source": [
    "root = tk.Tk()\n",
    "canvas = tk.Canvas(root, width=500, height=500)\n",
    "canvas.pack()\n",
    "\n",
    "t = turtle.RawTurtle(canvas)\n",
    "\n",
    "t.penup()\n",
    "t.goto(-200, -175)\n",
    "t.pendown()\n",
    "draw_sierpinski(t, 400, 2)\n",
    "t.hideturtle()\n",
    "\n",
    "dump_gui(canvas, \"Triangle1.png\")\n",
    "\n",
    "root.mainloop()"
   ]
  },
  {
   "cell_type": "markdown",
   "metadata": {},
   "source": [
    "## Julia Sets"
   ]
  },
  {
   "cell_type": "code",
   "execution_count": null,
   "metadata": {},
   "outputs": [],
   "source": [
    "def draw_julia(cX = -0.7, cY = 0.25, moveX = 0.0, moveY = 0.0, maxIter = 255):\n",
    "    # setting the width, height and zoom \n",
    "    # of the image to be created\n",
    "    w, h, zoom = 800,500,0.75\n",
    "\n",
    "    # creating the new image in RGB mode\n",
    "    bitmap = Image.new(\"L\", (w, h), \"white\")\n",
    "\n",
    "    # Allocating the storage for the image and\n",
    "    # loading the pixel data.\n",
    "    pix = bitmap.load()\n",
    "\n",
    "    for x in range(w):\n",
    "        for y in range(h):\n",
    "            zx = 1.5*(x - w/2)/(0.5*zoom*w) + moveX\n",
    "            zy = 1.0*(y - h/2)/(0.5*zoom*h) + moveY\n",
    "            i = maxIter\n",
    "            while zx*zx + zy*zy < 4 and i > 1:\n",
    "                tmp = zx*zx - zy*zy + cX\n",
    "                zy,zx = 2.0*zx*zy + cY, tmp\n",
    "                i -= 1\n",
    "\n",
    "            # convert byte to RGB (3 bytes), kinda \n",
    "            # magic to get nice colors\n",
    "            # pix[x,y] = (i << 21) + (i << 10) + i*8\n",
    "            pix[x,y] = i*8\n",
    "\n",
    "    # to display the created fractal\n",
    "    return bitmap"
   ]
  },
  {
   "cell_type": "markdown",
   "metadata": {},
   "source": [
    "### Run"
   ]
  },
  {
   "cell_type": "code",
   "execution_count": null,
   "metadata": {},
   "outputs": [],
   "source": [
    "julia = draw_julia(-1, 0)\n",
    "\n",
    "julia.show()"
   ]
  },
  {
   "cell_type": "code",
   "execution_count": null,
   "metadata": {},
   "outputs": [],
   "source": [
    "julia.save(\"Julia -1.png\")"
   ]
  },
  {
   "cell_type": "markdown",
   "metadata": {},
   "source": [
    "## Koch Curve"
   ]
  },
  {
   "cell_type": "code",
   "execution_count": null,
   "metadata": {},
   "outputs": [],
   "source": [
    "#function to create koch snowflake or koch curve \n",
    "def snowflake(turtle, lengthSide, levels): \n",
    "    if levels == 0: \n",
    "        turtle.forward(lengthSide) \n",
    "        return\n",
    "    lengthSide /= 3.0\n",
    "    snowflake(t, lengthSide, levels-1) \n",
    "    turtle.left(60) \n",
    "    snowflake(t, lengthSide, levels-1) \n",
    "    turtle.right(120) \n",
    "    snowflake(t, lengthSide, levels-1) \n",
    "    turtle.left(60) \n",
    "    snowflake(t, lengthSide, levels-1) "
   ]
  },
  {
   "cell_type": "markdown",
   "metadata": {},
   "source": [
    "### Run"
   ]
  },
  {
   "cell_type": "code",
   "execution_count": null,
   "metadata": {},
   "outputs": [],
   "source": [
    "root = tk.Tk()\n",
    "canvas = tk.Canvas(root, width=1920, height=1080)\n",
    "canvas.pack()\n",
    "\n",
    "t = turtle.RawTurtle(canvas)\n",
    "\n",
    "t.speed(0)\n",
    "\n",
    "t.penup()\n",
    "length = 1800.0              \n",
    "#t.goto(-200, -175)\n",
    "t.backward(length/2.0)\n",
    "t.pendown()\n",
    "snowflake(t, length, 6) \n",
    "t.hideturtle()\n",
    "\n",
    "dump_gui(canvas, \"Koch Curve.png\")\n",
    "\n",
    "root.mainloop()  "
   ]
  },
  {
   "cell_type": "code",
   "execution_count": null,
   "metadata": {},
   "outputs": [],
   "source": [
    "part_ratio = 2 * math.cos(math.radians(72))\n",
    "side_ratio = 1 / (part_ratio + 2)\n",
    "\n",
    "hide_turtles = True   # show/hide turtles as they draw\n",
    "path_color = \"black\"  # path color\n",
    "fill_color = \"black\"  # fill color\n",
    "\n",
    "# turtle, size\n",
    "def pentagon(t, s):\n",
    "  t.pendown()\n",
    "  t.right(36)\n",
    "  t.begin_fill()\n",
    "  for i in range(5):\n",
    "    t.forward(s)\n",
    "    t.right(72)\n",
    "  t.end_fill()\n",
    "\n",
    "# iteration, turtle, size\n",
    "def sierpinski(canvas, i, t, s):\n",
    "  t.setheading(0)\n",
    "  new_size = s * side_ratio\n",
    "  \n",
    "  if i > 1:\n",
    "    i -= 1\n",
    "    \n",
    "    # create four more turtles\n",
    "    for j in range(4):\n",
    "      t.right(36)\n",
    "      short = s * side_ratio / part_ratio\n",
    "      dist = [short, s, s, short][j]\n",
    "      \n",
    "      # spawn a turtle\n",
    "      spawn = turtle.RawTurtle(canvas)\n",
    "      spawn.speed(0)\n",
    "      if hide_turtles:spawn.hideturtle()\n",
    "      spawn.penup()\n",
    "      spawn.setposition(t.position())\n",
    "      spawn.setheading(t.heading())\n",
    "      spawn.forward(dist)\n",
    "      \n",
    "      # recurse for spawned turtles\n",
    "      sierpinski(canvas, i, spawn, new_size)\n",
    "    \n",
    "    # recurse for parent turtle\n",
    "    sierpinski(canvas, i, t, new_size)\n",
    "    \n",
    "  else:\n",
    "    # draw a pentagon\n",
    "    pentagon(t, s)\n",
    "    # delete turtle\n",
    "    del t"
   ]
  },
  {
   "cell_type": "code",
   "execution_count": null,
   "metadata": {},
   "outputs": [],
   "source": [
    "root = tk.Tk()\n",
    "canvas = tk.Canvas(root, width=1920, height=1080)\n",
    "canvas.pack()\n",
    "\n",
    "t = turtle.RawTurtle(canvas)\n",
    "\n",
    "t.speed(0)\n",
    "t.penup()\n",
    "t.hideturtle()\n",
    "screen = t.getscreen()\n",
    "y = screen.window_height()\n",
    "t.goto(0, y/2-20)\n",
    "\n",
    "i = 5       # depth. i >= 1\n",
    "size = 600  # side length\n",
    "\n",
    "# so the spawned turtles move only the distance to an inner pentagon\n",
    "size *= part_ratio\n",
    "\n",
    "# begin recursion\n",
    "sierpinski(canvas, i, t, size)\n",
    "\n",
    "dump_gui(root, \"Pentagon.png\")\n",
    "\n",
    "root.mainloop()"
   ]
  },
  {
   "cell_type": "markdown",
   "metadata": {},
   "source": [
    "# Run C++ executable"
   ]
  },
  {
   "cell_type": "code",
   "execution_count": null,
   "metadata": {},
   "outputs": [],
   "source": [
    "runTimes = 10\n",
    "filename = \"Pentagon.png\"\n",
    "\n",
    "subprocess.call(args=[\"./build/FractalDimensionComputation\", \"-f\", f\"{filename}\", \"-t\", f\"{runTimes}\"], stdin=None, stdout=None, stderr=None, shell=False)"
   ]
  },
  {
   "cell_type": "markdown",
   "metadata": {},
   "source": [
    "# Calculate statistics"
   ]
  },
  {
   "cell_type": "code",
   "execution_count": null,
   "metadata": {},
   "outputs": [],
   "source": [
    "runTimes = 10\n",
    "times = []\n",
    "with open(\"results_time.txt\", \"r\") as fin:\n",
    "    for _ in range(runTimes):\n",
    "        times.append(float(fin.readline()[:-1]))\n",
    "\n",
    "for i in range(runTimes):\n",
    "    sizes = [] # x = s\n",
    "    boxes = [] # y = n(s)\n",
    "    with open(f\"results_{i}.txt\", \"r\") as fin:\n",
    "        line = fin.readline()[:-1].split(' ')\n",
    "        while line != [\"\"]:\n",
    "            sizes.append(np.log(1 / int(line[0])))\n",
    "            boxes.append(np.log(int(line[1])))\n",
    "            \n",
    "            line = fin.readline()[:-1].split(' ')\n",
    "    \n",
    "    print(\"----------------------------------\")\n",
    "    print(f\"Run {i}\")\n",
    "    print(f\"Dimension = {linregress(sizes, boxes).slope}\")\n",
    "    print(f\"Time spent: {times[i]}\")\n",
    "print(f\"Time spent mean: {np.mean(times)}\")\n",
    "print(f\"Time spent standard deviation: {np.std(times)}\")"
   ]
  },
  {
   "cell_type": "code",
   "execution_count": null,
   "metadata": {},
   "outputs": [],
   "source": []
  }
 ],
 "metadata": {
  "kernelspec": {
   "display_name": "Python 3",
   "language": "python",
   "name": "python3"
  },
  "language_info": {
   "codemirror_mode": {
    "name": "ipython",
    "version": 3
   },
   "file_extension": ".py",
   "mimetype": "text/x-python",
   "name": "python",
   "nbconvert_exporter": "python",
   "pygments_lexer": "ipython3",
   "version": "3.12.6"
  }
 },
 "nbformat": 4,
 "nbformat_minor": 2
}
