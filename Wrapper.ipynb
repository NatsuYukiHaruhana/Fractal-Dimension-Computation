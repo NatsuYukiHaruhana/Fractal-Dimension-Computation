{
 "cells": [
  {
   "cell_type": "markdown",
   "metadata": {},
   "source": [
    "# Imports"
   ]
  },
  {
   "cell_type": "code",
   "execution_count": 2,
   "metadata": {},
   "outputs": [
    {
     "name": "stdout",
     "output_type": "stream",
     "text": [
      "Defaulting to user installation because normal site-packages is not writeable\n",
      "Requirement already satisfied: numpy in c:\\python312\\lib\\site-packages (2.1.1)\n"
     ]
    },
    {
     "name": "stderr",
     "output_type": "stream",
     "text": [
      "\n",
      "[notice] A new release of pip is available: 24.2 -> 24.3.1\n",
      "[notice] To update, run: python.exe -m pip install --upgrade pip\n"
     ]
    },
    {
     "name": "stdout",
     "output_type": "stream",
     "text": [
      "Defaulting to user installation because normal site-packages is not writeable\n",
      "Requirement already satisfied: scikit-learn in c:\\python312\\lib\\site-packages (1.5.2)\n",
      "Requirement already satisfied: numpy>=1.19.5 in c:\\python312\\lib\\site-packages (from scikit-learn) (2.1.1)\n",
      "Requirement already satisfied: scipy>=1.6.0 in c:\\python312\\lib\\site-packages (from scikit-learn) (1.14.1)\n",
      "Requirement already satisfied: joblib>=1.2.0 in c:\\python312\\lib\\site-packages (from scikit-learn) (1.4.2)\n",
      "Requirement already satisfied: threadpoolctl>=3.1.0 in c:\\python312\\lib\\site-packages (from scikit-learn) (3.5.0)\n"
     ]
    },
    {
     "name": "stderr",
     "output_type": "stream",
     "text": [
      "\n",
      "[notice] A new release of pip is available: 24.2 -> 24.3.1\n",
      "[notice] To update, run: python.exe -m pip install --upgrade pip\n"
     ]
    },
    {
     "name": "stdout",
     "output_type": "stream",
     "text": [
      "Defaulting to user installation because normal site-packages is not writeable\n",
      "Requirement already satisfied: pillow in c:\\python312\\lib\\site-packages (10.4.0)\n"
     ]
    },
    {
     "name": "stderr",
     "output_type": "stream",
     "text": [
      "\n",
      "[notice] A new release of pip is available: 24.2 -> 24.3.1\n",
      "[notice] To update, run: python.exe -m pip install --upgrade pip\n"
     ]
    }
   ],
   "source": [
    "import sys\n",
    "!{sys.executable} -m pip install numpy\n",
    "!{sys.executable} -m pip install scikit-learn\n",
    "!{sys.executable} -m pip install pillow"
   ]
  },
  {
   "cell_type": "code",
   "execution_count": 3,
   "metadata": {},
   "outputs": [],
   "source": [
    "import numpy as np\n",
    "from scipy.stats import linregress\n",
    "import tkinter as tk\n",
    "from PIL import ImageGrab\n",
    "import turtle\n",
    "import subprocess"
   ]
  },
  {
   "cell_type": "markdown",
   "metadata": {},
   "source": [
    "# Draw image"
   ]
  },
  {
   "cell_type": "code",
   "execution_count": 4,
   "metadata": {},
   "outputs": [],
   "source": [
    "def dump_gui(window, filename = \"gui_image_grabbed.png\"):\n",
    "    \"\"\"\n",
    "    takes a png screenshot of a tkinter window, and saves it on in cwd\n",
    "    \"\"\"\n",
    "    print('...dumping gui window to png')\n",
    "\n",
    "    x0 = window.winfo_rootx()\n",
    "    y0 = window.winfo_rooty()\n",
    "    x1 = x0 + window.winfo_width()\n",
    "    y1 = y0 + window.winfo_height()\n",
    "    ImageGrab.grab().crop((x0, y0, x1, y1)).save(filename)"
   ]
  },
  {
   "cell_type": "markdown",
   "metadata": {},
   "source": [
    "## Sierpinski Triangle"
   ]
  },
  {
   "cell_type": "code",
   "execution_count": 7,
   "metadata": {},
   "outputs": [],
   "source": [
    "def draw_sierpinski(turtle, length, depth):\n",
    "    if depth == 0:\n",
    "        for i in range(0, 3):\n",
    "            turtle.fd(length)\n",
    "            turtle.left(120)\n",
    "    else:\n",
    "        draw_sierpinski(turtle, length / 2, depth - 1)\n",
    "        turtle.fd(length / 2)\n",
    "        draw_sierpinski(turtle, length / 2, depth - 1)\n",
    "        turtle.bk(length / 2)\n",
    "        turtle.left(60)\n",
    "        turtle.fd(length / 2)\n",
    "        turtle.right(60)\n",
    "        draw_sierpinski(turtle, length / 2, depth - 1)\n",
    "        turtle.left(60)\n",
    "        turtle.bk(length / 2)\n",
    "        turtle.right(60)"
   ]
  },
  {
   "cell_type": "markdown",
   "metadata": {},
   "source": [
    "## Run"
   ]
  },
  {
   "cell_type": "code",
   "execution_count": 8,
   "metadata": {},
   "outputs": [
    {
     "name": "stdout",
     "output_type": "stream",
     "text": [
      "...dumping gui window to png\n"
     ]
    }
   ],
   "source": [
    "root = tk.Tk()\n",
    "canvas = tk.Canvas(root, width=500, height=500)\n",
    "canvas.pack()\n",
    "\n",
    "t = turtle.RawTurtle(canvas)\n",
    "\n",
    "t.penup()\n",
    "t.goto(-200, -175)\n",
    "t.pendown()\n",
    "draw_sierpinski(t, 400, 3)\n",
    "t.hideturtle()\n",
    "\n",
    "dump_gui(root, \"Triangle.png\")\n",
    "\n",
    "root.mainloop()"
   ]
  },
  {
   "cell_type": "markdown",
   "metadata": {},
   "source": [
    "# Run C++ executable"
   ]
  },
  {
   "cell_type": "code",
   "execution_count": 14,
   "metadata": {},
   "outputs": [
    {
     "data": {
      "text/plain": [
       "0"
      ]
     },
     "execution_count": 14,
     "metadata": {},
     "output_type": "execute_result"
    }
   ],
   "source": [
    "runTimes = 10\n",
    "filename = \"Triangle.png\"\n",
    "\n",
    "subprocess.call(args=[\"Fast Box Counting.exe\", \"-f\", f\"{filename}\", \"-t\", f\"{runTimes}\"], stdin=None, stdout=None, stderr=None, shell=False)"
   ]
  },
  {
   "cell_type": "markdown",
   "metadata": {},
   "source": [
    "# Calculate statistics"
   ]
  },
  {
   "cell_type": "code",
   "execution_count": 33,
   "metadata": {},
   "outputs": [
    {
     "name": "stdout",
     "output_type": "stream",
     "text": [
      "----------------------------------\n",
      "Run 0\n",
      "Dimension = 1.5003093350307672\n",
      "Time spent: 0.0004455\n",
      "----------------------------------\n",
      "Run 1\n",
      "Dimension = 1.5003093350307672\n",
      "Time spent: 0.0004828\n",
      "----------------------------------\n",
      "Run 2\n",
      "Dimension = 1.5003093350307672\n",
      "Time spent: 0.0005189\n",
      "----------------------------------\n",
      "Run 3\n",
      "Dimension = 1.5003093350307672\n",
      "Time spent: 0.0006339\n",
      "----------------------------------\n",
      "Run 4\n",
      "Dimension = 1.5003093350307672\n",
      "Time spent: 0.000674\n",
      "----------------------------------\n",
      "Run 5\n",
      "Dimension = 1.5003093350307672\n",
      "Time spent: 0.0006796\n",
      "----------------------------------\n",
      "Run 6\n",
      "Dimension = 1.5003093350307672\n",
      "Time spent: 0.0007197\n",
      "----------------------------------\n",
      "Run 7\n",
      "Dimension = 1.5003093350307672\n",
      "Time spent: 0.0008994\n",
      "----------------------------------\n",
      "Run 8\n",
      "Dimension = 1.5003093350307672\n",
      "Time spent: 0.001541\n",
      "----------------------------------\n",
      "Run 9\n",
      "Dimension = 1.5003093350307672\n",
      "Time spent: 0.0005897\n",
      "Time spent mean: 0.00071845\n",
      "Time spent standard deviation: 0.0003010641434976939\n"
     ]
    }
   ],
   "source": [
    "times = []\n",
    "with open(\"results_time.txt\", \"r\") as fin:\n",
    "    for _ in range(runTimes):\n",
    "        times.append(float(fin.readline()[:-1]))\n",
    "\n",
    "for i in range(runTimes):\n",
    "    sizes = [] # x = s\n",
    "    boxes = [] # y = n(s)\n",
    "    with open(f\"results_{i}.txt\", \"r\") as fin:\n",
    "        line = fin.readline()[:-1].split(' ')\n",
    "        while line != [\"\"]:\n",
    "            sizes.append(np.log(1 / int(line[0])))\n",
    "            boxes.append(np.log(int(line[1])))\n",
    "            \n",
    "            line = fin.readline()[:-1].split(' ')\n",
    "    \n",
    "    print(\"----------------------------------\")\n",
    "    print(f\"Run {i}\")\n",
    "    print(f\"Dimension = {linregress(sizes, boxes).slope}\")\n",
    "    print(f\"Time spent: {times[i]}\")\n",
    "print(f\"Time spent mean: {np.mean(times)}\")\n",
    "print(f\"Time spent standard deviation: {np.std(times)}\")"
   ]
  },
  {
   "cell_type": "code",
   "execution_count": null,
   "metadata": {},
   "outputs": [],
   "source": []
  }
 ],
 "metadata": {
  "kernelspec": {
   "display_name": "Python 3",
   "language": "python",
   "name": "python3"
  },
  "language_info": {
   "codemirror_mode": {
    "name": "ipython",
    "version": 3
   },
   "file_extension": ".py",
   "mimetype": "text/x-python",
   "name": "python",
   "nbconvert_exporter": "python",
   "pygments_lexer": "ipython3",
   "version": "3.12.6"
  }
 },
 "nbformat": 4,
 "nbformat_minor": 2
}
