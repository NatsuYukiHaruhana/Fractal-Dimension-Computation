{
 "cells": [
  {
   "cell_type": "markdown",
   "metadata": {},
   "source": [
    "# Imports"
   ]
  },
  {
   "cell_type": "code",
   "execution_count": null,
   "metadata": {},
   "outputs": [],
   "source": [
    "import sys\n",
    "!{sys.executable} -m pip install numpy\n",
    "!{sys.executable} -m pip install scikit-learn\n",
    "!{sys.executable} -m pip install pillow"
   ]
  },
  {
   "cell_type": "code",
<<<<<<< Updated upstream
   "execution_count": null,
   "metadata": {},
   "outputs": [],
   "source": [
    "import subprocess\n",
    "import tkinter as tk\n",
    "import turtle\n",
    "\n",
    "import numpy as np\n",
    "from scipy.stats import linregress\n",
    "from PIL import ImageGrab"
=======
   "execution_count": 2,
   "metadata": {},
   "outputs": [],
   "source": [
    "from scipy.stats import linregress\n",
    "from PIL import ImageGrab, Image\n",
    "\n",
    "import numpy as np\n",
    "import tkinter as tk\n",
    "import turtle\n",
    "import subprocess\n",
    "import math"
>>>>>>> Stashed changes
   ]
  },
  {
   "cell_type": "markdown",
   "metadata": {},
   "source": [
    "# Draw image"
   ]
  },
  {
   "cell_type": "code",
<<<<<<< Updated upstream
   "execution_count": null,
=======
   "execution_count": 3,
>>>>>>> Stashed changes
   "metadata": {},
   "outputs": [],
   "source": [
    "def dump_gui(window, filename = \"gui_image_grabbed.png\"):\n",
    "    \"\"\"\n",
    "    takes a png screenshot of a tkinter window, and saves it on in cwd\n",
    "    \"\"\"\n",
    "    print('...dumping gui window to png')\n",
    "\n",
    "    x0 = window.winfo_rootx()\n",
    "    y0 = window.winfo_rooty()\n",
    "    x1 = x0 + window.winfo_width()\n",
    "    y1 = y0 + window.winfo_height()\n",
    "    ImageGrab.grab().crop((x0, y0, x1, y1)).save(filename)"
   ]
  },
  {
   "cell_type": "markdown",
   "metadata": {},
   "source": [
    "## Sierpinski Triangle"
   ]
  },
  {
   "cell_type": "code",
<<<<<<< Updated upstream
   "execution_count": null,
=======
   "execution_count": 53,
>>>>>>> Stashed changes
   "metadata": {},
   "outputs": [],
   "source": [
    "def draw_sierpinski(turtle, length, depth):\n",
    "    if depth == 0:\n",
    "        for i in range(0, 3):\n",
    "            turtle.fd(length)\n",
    "            turtle.left(120)\n",
    "    else:\n",
    "        draw_sierpinski(turtle, length / 2, depth - 1)\n",
    "        turtle.fd(length / 2)\n",
    "        draw_sierpinski(turtle, length / 2, depth - 1)\n",
    "        turtle.bk(length / 2)\n",
    "        turtle.left(60)\n",
    "        turtle.fd(length / 2)\n",
    "        turtle.right(60)\n",
    "        draw_sierpinski(turtle, length / 2, depth - 1)\n",
    "        turtle.left(60)\n",
    "        turtle.bk(length / 2)\n",
    "        turtle.right(60)"
   ]
  },
  {
   "cell_type": "markdown",
   "metadata": {},
   "source": [
    "### Run"
   ]
  },
  {
   "cell_type": "code",
<<<<<<< Updated upstream
   "execution_count": null,
   "metadata": {},
   "outputs": [],
=======
   "execution_count": 54,
   "metadata": {},
   "outputs": [
    {
     "ename": "TclError",
     "evalue": "invalid command name \".!canvas\"",
     "output_type": "error",
     "traceback": [
      "\u001b[1;31m---------------------------------------------------------------------------\u001b[0m",
      "\u001b[1;31mTclError\u001b[0m                                  Traceback (most recent call last)",
      "Cell \u001b[1;32mIn[54], line 10\u001b[0m\n\u001b[0;32m      8\u001b[0m t\u001b[38;5;241m.\u001b[39mgoto(\u001b[38;5;241m-\u001b[39m\u001b[38;5;241m200\u001b[39m, \u001b[38;5;241m-\u001b[39m\u001b[38;5;241m175\u001b[39m)\n\u001b[0;32m      9\u001b[0m t\u001b[38;5;241m.\u001b[39mpendown()\n\u001b[1;32m---> 10\u001b[0m \u001b[43mdraw_sierpinski\u001b[49m\u001b[43m(\u001b[49m\u001b[43mt\u001b[49m\u001b[43m,\u001b[49m\u001b[43m \u001b[49m\u001b[38;5;241;43m400\u001b[39;49m\u001b[43m,\u001b[49m\u001b[43m \u001b[49m\u001b[38;5;241;43m3\u001b[39;49m\u001b[43m)\u001b[49m\n\u001b[0;32m     11\u001b[0m t\u001b[38;5;241m.\u001b[39mhideturtle()\n\u001b[0;32m     13\u001b[0m dump_gui(root, \u001b[38;5;124m\"\u001b[39m\u001b[38;5;124mTriangle1.png\u001b[39m\u001b[38;5;124m\"\u001b[39m)\n",
      "Cell \u001b[1;32mIn[53], line 7\u001b[0m, in \u001b[0;36mdraw_sierpinski\u001b[1;34m(turtle, length, depth)\u001b[0m\n\u001b[0;32m      5\u001b[0m         turtle\u001b[38;5;241m.\u001b[39mleft(\u001b[38;5;241m120\u001b[39m)\n\u001b[0;32m      6\u001b[0m \u001b[38;5;28;01melse\u001b[39;00m:\n\u001b[1;32m----> 7\u001b[0m     \u001b[43mdraw_sierpinski\u001b[49m\u001b[43m(\u001b[49m\u001b[43mturtle\u001b[49m\u001b[43m,\u001b[49m\u001b[43m \u001b[49m\u001b[43mlength\u001b[49m\u001b[43m \u001b[49m\u001b[38;5;241;43m/\u001b[39;49m\u001b[43m \u001b[49m\u001b[38;5;241;43m2\u001b[39;49m\u001b[43m,\u001b[49m\u001b[43m \u001b[49m\u001b[43mdepth\u001b[49m\u001b[43m \u001b[49m\u001b[38;5;241;43m-\u001b[39;49m\u001b[43m \u001b[49m\u001b[38;5;241;43m1\u001b[39;49m\u001b[43m)\u001b[49m\n\u001b[0;32m      8\u001b[0m     turtle\u001b[38;5;241m.\u001b[39mfd(length \u001b[38;5;241m/\u001b[39m \u001b[38;5;241m2\u001b[39m)\n\u001b[0;32m      9\u001b[0m     draw_sierpinski(turtle, length \u001b[38;5;241m/\u001b[39m \u001b[38;5;241m2\u001b[39m, depth \u001b[38;5;241m-\u001b[39m \u001b[38;5;241m1\u001b[39m)\n",
      "Cell \u001b[1;32mIn[53], line 9\u001b[0m, in \u001b[0;36mdraw_sierpinski\u001b[1;34m(turtle, length, depth)\u001b[0m\n\u001b[0;32m      7\u001b[0m draw_sierpinski(turtle, length \u001b[38;5;241m/\u001b[39m \u001b[38;5;241m2\u001b[39m, depth \u001b[38;5;241m-\u001b[39m \u001b[38;5;241m1\u001b[39m)\n\u001b[0;32m      8\u001b[0m turtle\u001b[38;5;241m.\u001b[39mfd(length \u001b[38;5;241m/\u001b[39m \u001b[38;5;241m2\u001b[39m)\n\u001b[1;32m----> 9\u001b[0m \u001b[43mdraw_sierpinski\u001b[49m\u001b[43m(\u001b[49m\u001b[43mturtle\u001b[49m\u001b[43m,\u001b[49m\u001b[43m \u001b[49m\u001b[43mlength\u001b[49m\u001b[43m \u001b[49m\u001b[38;5;241;43m/\u001b[39;49m\u001b[43m \u001b[49m\u001b[38;5;241;43m2\u001b[39;49m\u001b[43m,\u001b[49m\u001b[43m \u001b[49m\u001b[43mdepth\u001b[49m\u001b[43m \u001b[49m\u001b[38;5;241;43m-\u001b[39;49m\u001b[43m \u001b[49m\u001b[38;5;241;43m1\u001b[39;49m\u001b[43m)\u001b[49m\n\u001b[0;32m     10\u001b[0m turtle\u001b[38;5;241m.\u001b[39mbk(length \u001b[38;5;241m/\u001b[39m \u001b[38;5;241m2\u001b[39m)\n\u001b[0;32m     11\u001b[0m turtle\u001b[38;5;241m.\u001b[39mleft(\u001b[38;5;241m60\u001b[39m)\n",
      "Cell \u001b[1;32mIn[53], line 9\u001b[0m, in \u001b[0;36mdraw_sierpinski\u001b[1;34m(turtle, length, depth)\u001b[0m\n\u001b[0;32m      7\u001b[0m draw_sierpinski(turtle, length \u001b[38;5;241m/\u001b[39m \u001b[38;5;241m2\u001b[39m, depth \u001b[38;5;241m-\u001b[39m \u001b[38;5;241m1\u001b[39m)\n\u001b[0;32m      8\u001b[0m turtle\u001b[38;5;241m.\u001b[39mfd(length \u001b[38;5;241m/\u001b[39m \u001b[38;5;241m2\u001b[39m)\n\u001b[1;32m----> 9\u001b[0m \u001b[43mdraw_sierpinski\u001b[49m\u001b[43m(\u001b[49m\u001b[43mturtle\u001b[49m\u001b[43m,\u001b[49m\u001b[43m \u001b[49m\u001b[43mlength\u001b[49m\u001b[43m \u001b[49m\u001b[38;5;241;43m/\u001b[39;49m\u001b[43m \u001b[49m\u001b[38;5;241;43m2\u001b[39;49m\u001b[43m,\u001b[49m\u001b[43m \u001b[49m\u001b[43mdepth\u001b[49m\u001b[43m \u001b[49m\u001b[38;5;241;43m-\u001b[39;49m\u001b[43m \u001b[49m\u001b[38;5;241;43m1\u001b[39;49m\u001b[43m)\u001b[49m\n\u001b[0;32m     10\u001b[0m turtle\u001b[38;5;241m.\u001b[39mbk(length \u001b[38;5;241m/\u001b[39m \u001b[38;5;241m2\u001b[39m)\n\u001b[0;32m     11\u001b[0m turtle\u001b[38;5;241m.\u001b[39mleft(\u001b[38;5;241m60\u001b[39m)\n",
      "Cell \u001b[1;32mIn[53], line 4\u001b[0m, in \u001b[0;36mdraw_sierpinski\u001b[1;34m(turtle, length, depth)\u001b[0m\n\u001b[0;32m      2\u001b[0m \u001b[38;5;28;01mif\u001b[39;00m depth \u001b[38;5;241m==\u001b[39m \u001b[38;5;241m0\u001b[39m:\n\u001b[0;32m      3\u001b[0m     \u001b[38;5;28;01mfor\u001b[39;00m i \u001b[38;5;129;01min\u001b[39;00m \u001b[38;5;28mrange\u001b[39m(\u001b[38;5;241m0\u001b[39m, \u001b[38;5;241m3\u001b[39m):\n\u001b[1;32m----> 4\u001b[0m         \u001b[43mturtle\u001b[49m\u001b[38;5;241;43m.\u001b[39;49m\u001b[43mfd\u001b[49m\u001b[43m(\u001b[49m\u001b[43mlength\u001b[49m\u001b[43m)\u001b[49m\n\u001b[0;32m      5\u001b[0m         turtle\u001b[38;5;241m.\u001b[39mleft(\u001b[38;5;241m120\u001b[39m)\n\u001b[0;32m      6\u001b[0m \u001b[38;5;28;01melse\u001b[39;00m:\n",
      "File \u001b[1;32mc:\\Python312\\Lib\\turtle.py:1636\u001b[0m, in \u001b[0;36mTNavigator.forward\u001b[1;34m(self, distance)\u001b[0m\n\u001b[0;32m   1615\u001b[0m \u001b[38;5;28;01mdef\u001b[39;00m \u001b[38;5;21mforward\u001b[39m(\u001b[38;5;28mself\u001b[39m, distance):\n\u001b[0;32m   1616\u001b[0m \u001b[38;5;250m    \u001b[39m\u001b[38;5;124;03m\"\"\"Move the turtle forward by the specified distance.\u001b[39;00m\n\u001b[0;32m   1617\u001b[0m \n\u001b[0;32m   1618\u001b[0m \u001b[38;5;124;03m    Aliases: forward | fd\u001b[39;00m\n\u001b[1;32m   (...)\u001b[0m\n\u001b[0;32m   1634\u001b[0m \u001b[38;5;124;03m    (-50.00,0.00)\u001b[39;00m\n\u001b[0;32m   1635\u001b[0m \u001b[38;5;124;03m    \"\"\"\u001b[39;00m\n\u001b[1;32m-> 1636\u001b[0m     \u001b[38;5;28;43mself\u001b[39;49m\u001b[38;5;241;43m.\u001b[39;49m\u001b[43m_go\u001b[49m\u001b[43m(\u001b[49m\u001b[43mdistance\u001b[49m\u001b[43m)\u001b[49m\n",
      "File \u001b[1;32mc:\\Python312\\Lib\\turtle.py:1597\u001b[0m, in \u001b[0;36mTNavigator._go\u001b[1;34m(self, distance)\u001b[0m\n\u001b[0;32m   1595\u001b[0m \u001b[38;5;250m\u001b[39m\u001b[38;5;124;03m\"\"\"move turtle forward by specified distance\"\"\"\u001b[39;00m\n\u001b[0;32m   1596\u001b[0m ende \u001b[38;5;241m=\u001b[39m \u001b[38;5;28mself\u001b[39m\u001b[38;5;241m.\u001b[39m_position \u001b[38;5;241m+\u001b[39m \u001b[38;5;28mself\u001b[39m\u001b[38;5;241m.\u001b[39m_orient \u001b[38;5;241m*\u001b[39m distance\n\u001b[1;32m-> 1597\u001b[0m \u001b[38;5;28;43mself\u001b[39;49m\u001b[38;5;241;43m.\u001b[39;49m\u001b[43m_goto\u001b[49m\u001b[43m(\u001b[49m\u001b[43mende\u001b[49m\u001b[43m)\u001b[49m\n",
      "File \u001b[1;32mc:\\Python312\\Lib\\turtle.py:3248\u001b[0m, in \u001b[0;36mRawTurtle._goto\u001b[1;34m(self, end)\u001b[0m\n\u001b[0;32m   3246\u001b[0m     \u001b[38;5;28mself\u001b[39m\u001b[38;5;241m.\u001b[39m_position \u001b[38;5;241m=\u001b[39m start \u001b[38;5;241m+\u001b[39m delta \u001b[38;5;241m*\u001b[39m n\n\u001b[0;32m   3247\u001b[0m     \u001b[38;5;28;01mif\u001b[39;00m \u001b[38;5;28mself\u001b[39m\u001b[38;5;241m.\u001b[39m_drawing:\n\u001b[1;32m-> 3248\u001b[0m         \u001b[43mscreen\u001b[49m\u001b[38;5;241;43m.\u001b[39;49m\u001b[43m_drawline\u001b[49m\u001b[43m(\u001b[49m\u001b[38;5;28;43mself\u001b[39;49m\u001b[38;5;241;43m.\u001b[39;49m\u001b[43mdrawingLineItem\u001b[49m\u001b[43m,\u001b[49m\n\u001b[0;32m   3249\u001b[0m \u001b[43m                         \u001b[49m\u001b[43m(\u001b[49m\u001b[43mstart\u001b[49m\u001b[43m,\u001b[49m\u001b[43m \u001b[49m\u001b[38;5;28;43mself\u001b[39;49m\u001b[38;5;241;43m.\u001b[39;49m\u001b[43m_position\u001b[49m\u001b[43m)\u001b[49m\u001b[43m,\u001b[49m\n\u001b[0;32m   3250\u001b[0m \u001b[43m                         \u001b[49m\u001b[38;5;28;43mself\u001b[39;49m\u001b[38;5;241;43m.\u001b[39;49m\u001b[43m_pencolor\u001b[49m\u001b[43m,\u001b[49m\u001b[43m \u001b[49m\u001b[38;5;28;43mself\u001b[39;49m\u001b[38;5;241;43m.\u001b[39;49m\u001b[43m_pensize\u001b[49m\u001b[43m,\u001b[49m\u001b[43m \u001b[49m\u001b[43mtop\u001b[49m\u001b[43m)\u001b[49m\n\u001b[0;32m   3251\u001b[0m     \u001b[38;5;28mself\u001b[39m\u001b[38;5;241m.\u001b[39m_update()\n\u001b[0;32m   3252\u001b[0m \u001b[38;5;28;01mif\u001b[39;00m \u001b[38;5;28mself\u001b[39m\u001b[38;5;241m.\u001b[39m_drawing:\n",
      "File \u001b[1;32mc:\\Python312\\Lib\\turtle.py:539\u001b[0m, in \u001b[0;36mTurtleScreenBase._drawline\u001b[1;34m(self, lineitem, coordlist, fill, width, top)\u001b[0m\n\u001b[0;32m    537\u001b[0m         cl\u001b[38;5;241m.\u001b[39mappend(x \u001b[38;5;241m*\u001b[39m \u001b[38;5;28mself\u001b[39m\u001b[38;5;241m.\u001b[39mxscale)\n\u001b[0;32m    538\u001b[0m         cl\u001b[38;5;241m.\u001b[39mappend(\u001b[38;5;241m-\u001b[39my \u001b[38;5;241m*\u001b[39m \u001b[38;5;28mself\u001b[39m\u001b[38;5;241m.\u001b[39myscale)\n\u001b[1;32m--> 539\u001b[0m     \u001b[38;5;28;43mself\u001b[39;49m\u001b[38;5;241;43m.\u001b[39;49m\u001b[43mcv\u001b[49m\u001b[38;5;241;43m.\u001b[39;49m\u001b[43mcoords\u001b[49m\u001b[43m(\u001b[49m\u001b[43mlineitem\u001b[49m\u001b[43m,\u001b[49m\u001b[43m \u001b[49m\u001b[38;5;241;43m*\u001b[39;49m\u001b[43mcl\u001b[49m\u001b[43m)\u001b[49m\n\u001b[0;32m    540\u001b[0m \u001b[38;5;28;01mif\u001b[39;00m fill \u001b[38;5;129;01mis\u001b[39;00m \u001b[38;5;129;01mnot\u001b[39;00m \u001b[38;5;28;01mNone\u001b[39;00m:\n\u001b[0;32m    541\u001b[0m     \u001b[38;5;28mself\u001b[39m\u001b[38;5;241m.\u001b[39mcv\u001b[38;5;241m.\u001b[39mitemconfigure(lineitem, fill\u001b[38;5;241m=\u001b[39mfill)\n",
      "File \u001b[1;32mc:\\Python312\\Lib\\tkinter\\__init__.py:2851\u001b[0m, in \u001b[0;36mCanvas.coords\u001b[1;34m(self, *args)\u001b[0m\n\u001b[0;32m   2847\u001b[0m \u001b[38;5;250m\u001b[39m\u001b[38;5;124;03m\"\"\"Return a list of coordinates for the item given in ARGS.\"\"\"\u001b[39;00m\n\u001b[0;32m   2848\u001b[0m args \u001b[38;5;241m=\u001b[39m _flatten(args)\n\u001b[0;32m   2849\u001b[0m \u001b[38;5;28;01mreturn\u001b[39;00m [\u001b[38;5;28mself\u001b[39m\u001b[38;5;241m.\u001b[39mtk\u001b[38;5;241m.\u001b[39mgetdouble(x) \u001b[38;5;28;01mfor\u001b[39;00m x \u001b[38;5;129;01min\u001b[39;00m\n\u001b[0;32m   2850\u001b[0m                    \u001b[38;5;28mself\u001b[39m\u001b[38;5;241m.\u001b[39mtk\u001b[38;5;241m.\u001b[39msplitlist(\n\u001b[1;32m-> 2851\u001b[0m            \u001b[38;5;28;43mself\u001b[39;49m\u001b[38;5;241;43m.\u001b[39;49m\u001b[43mtk\u001b[49m\u001b[38;5;241;43m.\u001b[39;49m\u001b[43mcall\u001b[49m\u001b[43m(\u001b[49m\u001b[43m(\u001b[49m\u001b[38;5;28;43mself\u001b[39;49m\u001b[38;5;241;43m.\u001b[39;49m\u001b[43m_w\u001b[49m\u001b[43m,\u001b[49m\u001b[43m \u001b[49m\u001b[38;5;124;43m'\u001b[39;49m\u001b[38;5;124;43mcoords\u001b[39;49m\u001b[38;5;124;43m'\u001b[39;49m\u001b[43m)\u001b[49m\u001b[43m \u001b[49m\u001b[38;5;241;43m+\u001b[39;49m\u001b[43m \u001b[49m\u001b[43margs\u001b[49m\u001b[43m)\u001b[49m)]\n",
      "\u001b[1;31mTclError\u001b[0m: invalid command name \".!canvas\""
     ]
    }
   ],
>>>>>>> Stashed changes
   "source": [
    "root = tk.Tk()\n",
    "canvas = tk.Canvas(root, width=500, height=500)\n",
    "canvas.pack()\n",
    "\n",
    "t = turtle.RawTurtle(canvas)\n",
    "\n",
    "t.penup()\n",
    "t.goto(-200, -175)\n",
    "t.pendown()\n",
    "draw_sierpinski(t, 400, 3)\n",
    "t.hideturtle()\n",
    "\n",
    "dump_gui(root, \"Triangle1.png\")\n",
    "\n",
    "root.mainloop()"
   ]
  },
  {
   "cell_type": "markdown",
   "metadata": {},
   "source": [
    "## Julia Sets"
   ]
  },
  {
   "cell_type": "code",
   "execution_count": 33,
   "metadata": {},
   "outputs": [],
   "source": [
    "def draw_julia(cX = -0.7, cY = 0.25, moveX = 0.0, moveY = 0.0, maxIter = 255):\n",
    "    # setting the width, height and zoom \n",
    "    # of the image to be created\n",
    "    w, h, zoom = 800,500,0.75\n",
    "\n",
    "    # creating the new image in RGB mode\n",
    "    bitmap = Image.new(\"L\", (w, h), \"white\")\n",
    "\n",
    "    # Allocating the storage for the image and\n",
    "    # loading the pixel data.\n",
    "    pix = bitmap.load()\n",
    "\n",
    "    for x in range(w):\n",
    "        for y in range(h):\n",
    "            zx = 1.5*(x - w/2)/(0.5*zoom*w) + moveX\n",
    "            zy = 1.0*(y - h/2)/(0.5*zoom*h) + moveY\n",
    "            i = maxIter\n",
    "            while zx*zx + zy*zy < 4 and i > 1:\n",
    "                tmp = zx*zx - zy*zy + cX\n",
    "                zy,zx = 2.0*zx*zy + cY, tmp\n",
    "                i -= 1\n",
    "\n",
    "            # convert byte to RGB (3 bytes), kinda \n",
    "            # magic to get nice colors\n",
    "            # pix[x,y] = (i << 21) + (i << 10) + i*8\n",
    "            pix[x,y] = i*8\n",
    "\n",
    "    # to display the created fractal\n",
    "    return bitmap"
   ]
  },
  {
   "cell_type": "markdown",
   "metadata": {},
   "source": [
    "### Run"
   ]
  },
  {
   "cell_type": "code",
   "execution_count": 55,
   "metadata": {},
   "outputs": [],
   "source": [
    "julia = draw_julia(-1, 0)\n",
    "\n",
    "julia.show()"
   ]
  },
  {
   "cell_type": "code",
   "execution_count": 56,
   "metadata": {},
   "outputs": [],
   "source": [
    "julia.save(\"Julia -1.png\")"
   ]
  },
  {
   "cell_type": "markdown",
   "metadata": {},
   "source": [
    "## Koch Curve"
   ]
  },
  {
   "cell_type": "code",
   "execution_count": 22,
   "metadata": {},
   "outputs": [],
   "source": [
    "#function to create koch snowflake or koch curve \n",
    "def snowflake(turtle, lengthSide, levels): \n",
    "    if levels == 0: \n",
    "        turtle.forward(lengthSide) \n",
    "        return\n",
    "    lengthSide /= 3.0\n",
    "    snowflake(t, lengthSide, levels-1) \n",
    "    turtle.left(60) \n",
    "    snowflake(t, lengthSide, levels-1) \n",
    "    turtle.right(120) \n",
    "    snowflake(t, lengthSide, levels-1) \n",
    "    turtle.left(60) \n",
    "    snowflake(t, lengthSide, levels-1) "
   ]
  },
  {
   "cell_type": "markdown",
   "metadata": {},
   "source": [
    "### Run"
   ]
  },
  {
   "cell_type": "code",
   "execution_count": 33,
   "metadata": {},
   "outputs": [
    {
     "name": "stdout",
     "output_type": "stream",
     "text": [
      "...dumping gui window to png\n"
     ]
    }
   ],
   "source": [
    "root = tk.Tk()\n",
    "canvas = tk.Canvas(root, width=1920, height=1080)\n",
    "canvas.pack()\n",
    "\n",
    "t = turtle.RawTurtle(canvas)\n",
    "\n",
    "t.speed(0)\n",
    "\n",
    "t.penup()\n",
    "length = 1800.0              \n",
    "#t.goto(-200, -175)\n",
    "t.backward(length/2.0)\n",
    "t.pendown()\n",
    "snowflake(t, length, 6) \n",
    "t.hideturtle()\n",
    "\n",
    "dump_gui(root, \"Koch Curve.png\")\n",
    "\n",
    "root.mainloop()  "
   ]
  },
  {
   "cell_type": "code",
   "execution_count": 47,
   "metadata": {},
   "outputs": [],
   "source": [
    "part_ratio = 2 * math.cos(math.radians(72))\n",
    "side_ratio = 1 / (part_ratio + 2)\n",
    "\n",
    "hide_turtles = True   # show/hide turtles as they draw\n",
    "path_color = \"black\"  # path color\n",
    "fill_color = \"black\"  # fill color\n",
    "\n",
    "# turtle, size\n",
    "def pentagon(t, s):\n",
    "  t.pendown()\n",
    "  t.right(36)\n",
    "  t.begin_fill()\n",
    "  for i in range(5):\n",
    "    t.forward(s)\n",
    "    t.right(72)\n",
    "  t.end_fill()\n",
    "\n",
    "# iteration, turtle, size\n",
    "def sierpinski(canvas, i, t, s):\n",
    "  t.setheading(0)\n",
    "  new_size = s * side_ratio\n",
    "  \n",
    "  if i > 1:\n",
    "    i -= 1\n",
    "    \n",
    "    # create four more turtles\n",
    "    for j in range(4):\n",
    "      t.right(36)\n",
    "      short = s * side_ratio / part_ratio\n",
    "      dist = [short, s, s, short][j]\n",
    "      \n",
    "      # spawn a turtle\n",
    "      spawn = turtle.RawTurtle(canvas)\n",
    "      spawn.speed(0)\n",
    "      if hide_turtles:spawn.hideturtle()\n",
    "      spawn.penup()\n",
    "      spawn.setposition(t.position())\n",
    "      spawn.setheading(t.heading())\n",
    "      spawn.forward(dist)\n",
    "      \n",
    "      # recurse for spawned turtles\n",
    "      sierpinski(canvas, i, spawn, new_size)\n",
    "    \n",
    "    # recurse for parent turtle\n",
    "    sierpinski(canvas, i, t, new_size)\n",
    "    \n",
    "  else:\n",
    "    # draw a pentagon\n",
    "    pentagon(t, s)\n",
    "    # delete turtle\n",
    "    del t"
   ]
  },
  {
   "cell_type": "code",
   "execution_count": 49,
   "metadata": {},
   "outputs": [
    {
     "name": "stdout",
     "output_type": "stream",
     "text": [
      "...dumping gui window to png\n"
     ]
    },
    {
     "ename": "KeyboardInterrupt",
     "evalue": "",
     "output_type": "error",
     "traceback": [
      "\u001b[1;31m---------------------------------------------------------------------------\u001b[0m",
      "\u001b[1;31mKeyboardInterrupt\u001b[0m                         Traceback (most recent call last)",
      "Cell \u001b[1;32mIn[49], line 25\u001b[0m\n\u001b[0;32m     21\u001b[0m sierpinski(canvas, i, t, size)\n\u001b[0;32m     23\u001b[0m dump_gui(root, \u001b[38;5;124m\"\u001b[39m\u001b[38;5;124mPentagon.png\u001b[39m\u001b[38;5;124m\"\u001b[39m)\n\u001b[1;32m---> 25\u001b[0m \u001b[43mroot\u001b[49m\u001b[38;5;241;43m.\u001b[39;49m\u001b[43mmainloop\u001b[49m\u001b[43m(\u001b[49m\u001b[43m)\u001b[49m\n",
      "File \u001b[1;32mc:\\Python312\\Lib\\tkinter\\__init__.py:1505\u001b[0m, in \u001b[0;36mMisc.mainloop\u001b[1;34m(self, n)\u001b[0m\n\u001b[0;32m   1503\u001b[0m \u001b[38;5;28;01mdef\u001b[39;00m \u001b[38;5;21mmainloop\u001b[39m(\u001b[38;5;28mself\u001b[39m, n\u001b[38;5;241m=\u001b[39m\u001b[38;5;241m0\u001b[39m):\n\u001b[0;32m   1504\u001b[0m \u001b[38;5;250m    \u001b[39m\u001b[38;5;124;03m\"\"\"Call the mainloop of Tk.\"\"\"\u001b[39;00m\n\u001b[1;32m-> 1505\u001b[0m     \u001b[38;5;28;43mself\u001b[39;49m\u001b[38;5;241;43m.\u001b[39;49m\u001b[43mtk\u001b[49m\u001b[38;5;241;43m.\u001b[39;49m\u001b[43mmainloop\u001b[49m\u001b[43m(\u001b[49m\u001b[43mn\u001b[49m\u001b[43m)\u001b[49m\n",
      "\u001b[1;31mKeyboardInterrupt\u001b[0m: "
     ]
    }
   ],
   "source": [
    "root = tk.Tk()\n",
    "canvas = tk.Canvas(root, width=1920, height=1080)\n",
    "canvas.pack()\n",
    "\n",
    "t = turtle.RawTurtle(canvas)\n",
    "\n",
    "t.speed(0)\n",
    "t.penup()\n",
    "t.hideturtle()\n",
    "screen = t.getscreen()\n",
    "y = screen.window_height()\n",
    "t.goto(0, y/2-20)\n",
    "\n",
    "i = 5       # depth. i >= 1\n",
    "size = 600  # side length\n",
    "\n",
    "# so the spawned turtles move only the distance to an inner pentagon\n",
    "size *= part_ratio\n",
    "\n",
    "# begin recursion\n",
    "sierpinski(canvas, i, t, size)\n",
    "\n",
    "dump_gui(root, \"Pentagon.png\")\n",
    "\n",
    "root.mainloop()"
   ]
  },
  {
   "cell_type": "markdown",
   "metadata": {},
   "source": [
    "# Run C++ executable"
   ]
  },
  {
   "cell_type": "code",
<<<<<<< Updated upstream
   "execution_count": null,
   "metadata": {},
   "outputs": [],
=======
   "execution_count": 73,
   "metadata": {},
   "outputs": [
    {
     "data": {
      "text/plain": [
       "0"
      ]
     },
     "execution_count": 73,
     "metadata": {},
     "output_type": "execute_result"
    }
   ],
>>>>>>> Stashed changes
   "source": [
    "runTimes = 10\n",
    "filename = \"Pentagon.png\"\n",
    "\n",
    "subprocess.call(args=[\"./build/FractalDimensionComputation\", \"-f\", f\"{filename}\", \"-t\", f\"{runTimes}\"], stdin=None, stdout=None, stderr=None, shell=False)"
   ]
  },
  {
   "cell_type": "markdown",
   "metadata": {},
   "source": [
    "# Calculate statistics"
   ]
  },
  {
   "cell_type": "code",
<<<<<<< Updated upstream
   "execution_count": null,
   "metadata": {},
   "outputs": [],
=======
   "execution_count": 74,
   "metadata": {},
   "outputs": [
    {
     "name": "stdout",
     "output_type": "stream",
     "text": [
      "----------------------------------\n",
      "Run 0\n",
      "Dimension = 1.4224899775799251\n",
      "Time spent: 0.0048888\n",
      "----------------------------------\n",
      "Run 1\n",
      "Dimension = 1.4224899775799251\n",
      "Time spent: 0.0044986\n",
      "----------------------------------\n",
      "Run 2\n",
      "Dimension = 1.4224899775799251\n",
      "Time spent: 0.0049779\n",
      "----------------------------------\n",
      "Run 3\n",
      "Dimension = 1.4224899775799251\n",
      "Time spent: 0.0046956\n",
      "----------------------------------\n",
      "Run 4\n",
      "Dimension = 1.4224899775799251\n",
      "Time spent: 0.0046047\n",
      "----------------------------------\n",
      "Run 5\n",
      "Dimension = 1.4224899775799251\n",
      "Time spent: 0.0051114\n",
      "----------------------------------\n",
      "Run 6\n",
      "Dimension = 1.4224899775799251\n",
      "Time spent: 0.004939\n",
      "----------------------------------\n",
      "Run 7\n",
      "Dimension = 1.4224899775799251\n",
      "Time spent: 0.004865\n",
      "----------------------------------\n",
      "Run 8\n",
      "Dimension = 1.4224899775799251\n",
      "Time spent: 0.0044329\n",
      "----------------------------------\n",
      "Run 9\n",
      "Dimension = 1.4224899775799251\n",
      "Time spent: 0.005148\n",
      "Time spent mean: 0.004816190000000001\n",
      "Time spent standard deviation: 0.0002351974636342833\n"
     ]
    }
   ],
>>>>>>> Stashed changes
   "source": [
    "runTimes = 10\n",
    "times = []\n",
    "with open(\"results_time.txt\", \"r\") as fin:\n",
    "    for _ in range(runTimes):\n",
    "        times.append(float(fin.readline()[:-1]))\n",
    "\n",
    "for i in range(runTimes):\n",
    "    sizes = [] # x = s\n",
    "    boxes = [] # y = n(s)\n",
    "    with open(f\"results_{i}.txt\", \"r\") as fin:\n",
    "        line = fin.readline()[:-1].split(' ')\n",
    "        while line != [\"\"]:\n",
    "            sizes.append(np.log(1 / int(line[0])))\n",
    "            boxes.append(np.log(int(line[1])))\n",
    "            \n",
    "            line = fin.readline()[:-1].split(' ')\n",
    "    \n",
    "    print(\"----------------------------------\")\n",
    "    print(f\"Run {i}\")\n",
    "    print(f\"Dimension = {linregress(sizes, boxes).slope}\")\n",
    "    print(f\"Time spent: {times[i]}\")\n",
    "print(f\"Time spent mean: {np.mean(times)}\")\n",
    "print(f\"Time spent standard deviation: {np.std(times)}\")"
   ]
  },
  {
   "cell_type": "code",
   "execution_count": null,
   "metadata": {},
   "outputs": [],
   "source": []
  }
 ],
 "metadata": {
  "kernelspec": {
   "display_name": "Python 3",
   "language": "python",
   "name": "python3"
  },
  "language_info": {
   "codemirror_mode": {
    "name": "ipython",
    "version": 3
   },
   "file_extension": ".py",
   "mimetype": "text/x-python",
   "name": "python",
   "nbconvert_exporter": "python",
   "pygments_lexer": "ipython3",
   "version": "3.12.6"
  }
 },
 "nbformat": 4,
 "nbformat_minor": 2
}
