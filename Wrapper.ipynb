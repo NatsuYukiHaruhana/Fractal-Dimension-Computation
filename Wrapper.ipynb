{
 "cells": [
  {
   "cell_type": "markdown",
   "metadata": {},
   "source": [
    "# Imports"
   ]
  },
  {
   "cell_type": "code",
   "execution_count": null,
   "metadata": {},
   "outputs": [],
   "source": [
    "import sys\n",
    "!{sys.executable} -m pip install numpy\n",
    "!{sys.executable} -m pip install scikit-learn\n",
    "!{sys.executable} -m pip install pillow"
   ]
  },
  {
   "cell_type": "code",
   "execution_count": null,
   "metadata": {},
   "outputs": [],
   "source": [
    "import subprocess\n",
    "import tkinter as tk\n",
    "import turtle\n",
    "\n",
    "import numpy as np\n",
    "from scipy.stats import linregress\n",
    "from PIL import ImageGrab"
   ]
  },
  {
   "cell_type": "markdown",
   "metadata": {},
   "source": [
    "# Draw image"
   ]
  },
  {
   "cell_type": "code",
   "execution_count": null,
   "metadata": {},
   "outputs": [],
   "source": [
    "def dump_gui(window, filename = \"gui_image_grabbed.png\"):\n",
    "    \"\"\"\n",
    "    takes a png screenshot of a tkinter window, and saves it on in cwd\n",
    "    \"\"\"\n",
    "    print('...dumping gui window to png')\n",
    "\n",
    "    x0 = window.winfo_rootx()\n",
    "    y0 = window.winfo_rooty()\n",
    "    x1 = x0 + window.winfo_width()\n",
    "    y1 = y0 + window.winfo_height()\n",
    "    ImageGrab.grab().crop((x0, y0, x1, y1)).save(filename)"
   ]
  },
  {
   "cell_type": "markdown",
   "metadata": {},
   "source": [
    "## Sierpinski Triangle"
   ]
  },
  {
   "cell_type": "code",
   "execution_count": null,
   "metadata": {},
   "outputs": [],
   "source": [
    "def draw_sierpinski(turtle, length, depth):\n",
    "    if depth == 0:\n",
    "        for i in range(0, 3):\n",
    "            turtle.fd(length)\n",
    "            turtle.left(120)\n",
    "    else:\n",
    "        draw_sierpinski(turtle, length / 2, depth - 1)\n",
    "        turtle.fd(length / 2)\n",
    "        draw_sierpinski(turtle, length / 2, depth - 1)\n",
    "        turtle.bk(length / 2)\n",
    "        turtle.left(60)\n",
    "        turtle.fd(length / 2)\n",
    "        turtle.right(60)\n",
    "        draw_sierpinski(turtle, length / 2, depth - 1)\n",
    "        turtle.left(60)\n",
    "        turtle.bk(length / 2)\n",
    "        turtle.right(60)"
   ]
  },
  {
   "cell_type": "markdown",
   "metadata": {},
   "source": [
    "## Run"
   ]
  },
  {
   "cell_type": "code",
   "execution_count": null,
   "metadata": {},
   "outputs": [],
   "source": [
    "root = tk.Tk()\n",
    "canvas = tk.Canvas(root, width=500, height=500)\n",
    "canvas.pack()\n",
    "\n",
    "t = turtle.RawTurtle(canvas)\n",
    "\n",
    "t.penup()\n",
    "t.goto(-200, -175)\n",
    "t.pendown()\n",
    "draw_sierpinski(t, 400, 3)\n",
    "t.hideturtle()\n",
    "\n",
    "dump_gui(root, \"Triangle.png\")\n",
    "\n",
    "root.mainloop()"
   ]
  },
  {
   "cell_type": "markdown",
   "metadata": {},
   "source": [
    "# Run C++ executable"
   ]
  },
  {
   "cell_type": "code",
   "execution_count": null,
   "metadata": {},
   "outputs": [],
   "source": [
    "runTimes = 10\n",
    "filename = \"Triangle.png\"\n",
    "\n",
    "subprocess.call(args=[\"./build/FractalDimensionComputation\", \"-f\", f\"{filename}\", \"-t\", f\"{runTimes}\"], stdin=None, stdout=None, stderr=None, shell=False)"
   ]
  },
  {
   "cell_type": "markdown",
   "metadata": {},
   "source": [
    "# Calculate statistics"
   ]
  },
  {
   "cell_type": "code",
   "execution_count": null,
   "metadata": {},
   "outputs": [],
   "source": [
    "times = []\n",
    "with open(\"results_time.txt\", \"r\") as fin:\n",
    "    for _ in range(runTimes):\n",
    "        times.append(float(fin.readline()[:-1]))\n",
    "\n",
    "for i in range(runTimes):\n",
    "    sizes = [] # x = s\n",
    "    boxes = [] # y = n(s)\n",
    "    with open(f\"results_{i}.txt\", \"r\") as fin:\n",
    "        line = fin.readline()[:-1].split(' ')\n",
    "        while line != [\"\"]:\n",
    "            sizes.append(np.log(1 / int(line[0])))\n",
    "            boxes.append(np.log(int(line[1])))\n",
    "            \n",
    "            line = fin.readline()[:-1].split(' ')\n",
    "    \n",
    "    print(\"----------------------------------\")\n",
    "    print(f\"Run {i}\")\n",
    "    print(f\"Dimension = {linregress(sizes, boxes).slope}\")\n",
    "    print(f\"Time spent: {times[i]}\")\n",
    "print(f\"Time spent mean: {np.mean(times)}\")\n",
    "print(f\"Time spent standard deviation: {np.std(times)}\")"
   ]
  },
  {
   "cell_type": "code",
   "execution_count": null,
   "metadata": {},
   "outputs": [],
   "source": []
  }
 ],
 "metadata": {
  "kernelspec": {
   "display_name": "Python 3",
   "language": "python",
   "name": "python3"
  },
  "language_info": {
   "codemirror_mode": {
    "name": "ipython",
    "version": 3
   },
   "file_extension": ".py",
   "mimetype": "text/x-python",
   "name": "python",
   "nbconvert_exporter": "python",
   "pygments_lexer": "ipython3",
   "version": "3.12.6"
  }
 },
 "nbformat": 4,
 "nbformat_minor": 2
}
